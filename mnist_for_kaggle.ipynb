{
 "cells": [
  {
   "cell_type": "code",
   "execution_count": 1,
   "metadata": {},
   "outputs": [
    {
     "name": "stderr",
     "output_type": "stream",
     "text": [
      "Using TensorFlow backend.\n"
     ]
    }
   ],
   "source": [
    "from keras.utils import to_categorical\n",
    "import numpy as np\n",
    "import pandas as pd\n",
    "import matplotlib.pyplot as plt"
   ]
  },
  {
   "cell_type": "code",
   "execution_count": 2,
   "metadata": {},
   "outputs": [
    {
     "name": "stderr",
     "output_type": "stream",
     "text": [
      "C:\\Users\\Avinash.Singh26\\AppData\\Local\\Continuum\\miniconda3\\envs\\pacman\\lib\\site-packages\\ipykernel_launcher.py:1: FutureWarning: Method .as_matrix will be removed in a future version. Use .values instead.\n",
      "  \"\"\"Entry point for launching an IPython kernel.\n",
      "C:\\Users\\Avinash.Singh26\\AppData\\Local\\Continuum\\miniconda3\\envs\\pacman\\lib\\site-packages\\ipykernel_launcher.py:2: FutureWarning: Method .as_matrix will be removed in a future version. Use .values instead.\n",
      "  \n"
     ]
    }
   ],
   "source": [
    "train_data=pd.read_csv('data/train.csv').as_matrix()\n",
    "test_data=pd.read_csv('data/test.csv').as_matrix()"
   ]
  },
  {
   "cell_type": "code",
   "execution_count": 5,
   "metadata": {},
   "outputs": [
    {
     "name": "stdout",
     "output_type": "stream",
     "text": [
      "(42000, 784) (28000, 784) (42000,) (28000,)\n"
     ]
    }
   ],
   "source": [
    "(train_Y,train_X)=train_data[:,0],train_data[:,1:]\n",
    "test_X=test_data[:,0:]\n",
    "print(train_X.shape,test_X.shape,train_Y.shape,test_Y.shape)"
   ]
  },
  {
   "cell_type": "code",
   "execution_count": 6,
   "metadata": {},
   "outputs": [],
   "source": [
    "train_X=np.reshape(train_X,(-1,28,28))#reshaping 784 into 28x28\n",
    "test_X=np.reshape(test_X,(-1,28,28))#reshaping 784 into 28x28"
   ]
  },
  {
   "cell_type": "code",
   "execution_count": 7,
   "metadata": {},
   "outputs": [
    {
     "name": "stdout",
     "output_type": "stream",
     "text": [
      "Training data shape:  (42000, 28, 28)\n",
      "Testing data shape :  (28000, 28, 28)\n"
     ]
    }
   ],
   "source": [
    "print(\"Training data shape: \",train_X.shape)\n",
    "print(\"Testing data shape : \",test_X.shape)"
   ]
  },
  {
   "cell_type": "code",
   "execution_count": 9,
   "metadata": {},
   "outputs": [
    {
     "name": "stdout",
     "output_type": "stream",
     "text": [
      " The classes are :  [0 1 2 3 4 5 6 7 8 9]\n",
      "Number of classes are :  10\n"
     ]
    }
   ],
   "source": [
    "classes=np.unique(train_Y)\n",
    "num_Classes=len(classes)\n",
    "print(\" The classes are : \",classes)\n",
    "print(\"Number of classes are : \",num_Classes )"
   ]
  },
  {
   "cell_type": "code",
   "execution_count": 10,
   "metadata": {},
   "outputs": [
    {
     "data": {
      "text/plain": [
       "Text(0.5,1,'Value for this number is : 8')"
      ]
     },
     "execution_count": 10,
     "metadata": {},
     "output_type": "execute_result"
    },
    {
     "data": {
      "image/png": "[encoded data removed]",
      "text/plain": [
       "<Figure size 360x360 with 1 Axes>"
      ]
     },
     "metadata": {},
     "output_type": "display_data"
    }
   ],
   "source": [
    "plt.figure(figsize=[5,5])\n",
    "plt.subplot(121)\n",
    "plt.imshow(train_X[10,:,:])\n",
    "plt.title(\"Value for this number is : {}\".format(train_Y[10]))"
   ]
  },
  {
   "cell_type": "markdown",
   "metadata": {},
   "source": [
    "# Preprocessing"
   ]
  },
  {
   "cell_type": "code",
   "execution_count": 11,
   "metadata": {},
   "outputs": [],
   "source": [
    "train_X=train_X.reshape(-1,28,28,1)\n",
    "test_X=test_X.reshape(-1,28,28,1)\n",
    "train_X=train_X.astype('float32')#Converting to float\n",
    "test_X=test_X.astype('float32')\n",
    "train_X=train_X/255.#Normalization\n",
    "test_X=test_X/255."
   ]
  },
  {
   "cell_type": "markdown",
   "metadata": {},
   "source": [
    "# One Hot Encoding"
   ]
  },
  {
   "cell_type": "code",
   "execution_count": 12,
   "metadata": {},
   "outputs": [],
   "source": [
    "train_y_one_hot=to_categorical(train_Y)#this function converts it into one hot vector"
   ]
  },
  {
   "cell_type": "code",
   "execution_count": 13,
   "metadata": {},
   "outputs": [
    {
     "name": "stdout",
     "output_type": "stream",
     "text": [
      "Before One hot encoding :  1\n",
      "AFter One hot encoding :  [0. 1. 0. 0. 0. 0. 0. 0. 0. 0.]\n"
     ]
    }
   ],
   "source": [
    "print(\"Before One hot encoding : \",train_Y[2])\n",
    "print(\"AFter One hot encoding : \",train_y_one_hot[2])"
   ]
  },
  {
   "cell_type": "code",
   "execution_count": 14,
   "metadata": {},
   "outputs": [],
   "source": [
    "from sklearn.model_selection import train_test_split\n",
    "import keras\n",
    "from keras.models import Sequential,Input,Model\n",
    "from keras.layers import Dense,Dropout,Flatten\n",
    "from keras.layers import Conv2D,MaxPooling2D\n",
    "from keras.layers.normalization import BatchNormalization\n",
    "from keras.layers.advanced_activations import LeakyReLU\n",
    "train_X,valid_X,train_label,valid_label=train_test_split(train_X,train_y_one_hot,test_size=0.2,random_state=13)\n",
    "batch_size=64\n",
    "epochs=30\n",
    "num_classes=10"
   ]
  },
  {
   "cell_type": "code",
   "execution_count": 15,
   "metadata": {},
   "outputs": [],
   "source": [
    "num_model=Sequential()\n",
    "num_model.add(Conv2D(32,kernel_size=(3,3),activation='linear',input_shape=(28,28,1),padding='same'))\n",
    "num_model.add(LeakyReLU(alpha=0.1))\n",
    "num_model.add(MaxPooling2D((2, 2),padding='same'))\n",
    "num_model.add(Dropout(0.25))\n",
    "num_model.add(Conv2D(64,(3,3),activation='linear',padding='same'))\n",
    "num_model.add(Conv2D(64,(3,3),activation='linear',padding='same'))\n",
    "num_model.add(LeakyReLU(alpha=0.1))                  \n",
    "num_model.add(MaxPooling2D(pool_size=(2, 2),padding='same'))\n",
    "num_model.add(Dropout(0.25))\n",
    "num_model.add(Conv2D(128,(3,3),activation='linear',padding='same'))\n",
    "num_model.add(LeakyReLU(alpha=0.1))\n",
    "num_model.add(MaxPooling2D(pool_size=(2,2),padding='same'))\n",
    "num_model.add(Dropout(0.25))\n",
    "num_model.add(Conv2D(128,(3,3),activation='linear',padding='same'))\n",
    "num_model.add(LeakyReLU(alpha=0.1))\n",
    "num_model.add(MaxPooling2D(pool_size=(2,2),padding='same'))\n",
    "num_model.add(Dropout(0.25))\n",
    "num_model.add(Flatten())\n",
    "num_model.add(Dense(256,activation='linear'))\n",
    "num_model.add(LeakyReLU(alpha=0.1))\n",
    "num_model.add(Dense(num_classes,activation='softmax'))"
   ]
  },
  {
   "cell_type": "code",
   "execution_count": null,
   "metadata": {},
   "outputs": [
    {
     "name": "stdout",
     "output_type": "stream",
     "text": [
      "Train on 33600 samples, validate on 8400 samples\n",
      "Epoch 1/30\n",
      "33600/33600 [==============================] - 216s 6ms/step - loss: 0.3519 - acc: 0.8825 - val_loss: 0.0947 - val_acc: 0.9729\n",
      "Epoch 2/30\n",
      "33600/33600 [==============================] - 212s 6ms/step - loss: 0.0987 - acc: 0.9698 - val_loss: 0.0741 - val_acc: 0.9801\n",
      "Epoch 3/30\n",
      "33600/33600 [==============================] - 212s 6ms/step - loss: 0.0757 - acc: 0.9767 - val_loss: 0.0551 - val_acc: 0.9862\n",
      "Epoch 4/30\n",
      "33600/33600 [==============================] - 213s 6ms/step - loss: 0.0634 - acc: 0.9808 - val_loss: 0.0583 - val_acc: 0.9840\n",
      "Epoch 5/30\n",
      "33600/33600 [==============================] - 214s 6ms/step - loss: 0.0573 - acc: 0.9825 - val_loss: 0.0444 - val_acc: 0.9876\n",
      "Epoch 6/30\n",
      "33600/33600 [==============================] - 213s 6ms/step - loss: 0.0544 - acc: 0.9836 - val_loss: 0.0561 - val_acc: 0.9844\n",
      "Epoch 7/30\n",
      "33600/33600 [==============================] - 213s 6ms/step - loss: 0.0475 - acc: 0.9860 - val_loss: 0.0626 - val_acc: 0.9845\n",
      "Epoch 8/30\n",
      "33600/33600 [==============================] - 213s 6ms/step - loss: 0.0450 - acc: 0.9865 - val_loss: 0.0475 - val_acc: 0.9876\n",
      "Epoch 9/30\n",
      "33600/33600 [==============================] - 1785s 53ms/step - loss: 0.0409 - acc: 0.9868 - val_loss: 0.0564 - val_acc: 0.9875\n",
      "Epoch 10/30\n",
      "33600/33600 [==============================] - 222s 7ms/step - loss: 0.0402 - acc: 0.9874 - val_loss: 0.0455 - val_acc: 0.9892\n",
      "Epoch 11/30\n",
      "33600/33600 [==============================] - 219s 7ms/step - loss: 0.0432 - acc: 0.9878 - val_loss: 0.0554 - val_acc: 0.9875\n",
      "Epoch 12/30\n",
      "33600/33600 [==============================] - 231s 7ms/step - loss: 0.0384 - acc: 0.9883 - val_loss: 0.0542 - val_acc: 0.9861\n",
      "Epoch 13/30\n",
      "33600/33600 [==============================] - 218s 6ms/step - loss: 0.0370 - acc: 0.9888 - val_loss: 0.0491 - val_acc: 0.9880\n",
      "Epoch 14/30\n",
      "33600/33600 [==============================] - 217s 6ms/step - loss: 0.0378 - acc: 0.9894 - val_loss: 0.0565 - val_acc: 0.9881\n",
      "Epoch 15/30\n",
      "33600/33600 [==============================] - 217s 6ms/step - loss: 0.0369 - acc: 0.9890 - val_loss: 0.0404 - val_acc: 0.9908\n",
      "Epoch 16/30\n",
      "33600/33600 [==============================] - 217s 6ms/step - loss: 0.0330 - acc: 0.9903 - val_loss: 0.0524 - val_acc: 0.9880\n",
      "Epoch 17/30\n",
      "33600/33600 [==============================] - 217s 6ms/step - loss: 0.0367 - acc: 0.9895 - val_loss: 0.0481 - val_acc: 0.9892\n",
      "Epoch 18/30\n",
      "33600/33600 [==============================] - 218s 6ms/step - loss: 0.0322 - acc: 0.9913 - val_loss: 0.0430 - val_acc: 0.9907\n",
      "Epoch 19/30\n",
      "20544/33600 [=================>............] - ETA: 4:40:13 - loss: 0.0289 - acc: 0.9919"
     ]
    }
   ],
   "source": [
    "num_model.compile(loss=keras.losses.categorical_crossentropy,optimizer=keras.optimizers.Adam(),metrics=['accuracy'])\n",
    "num_model_train=num_model.fit(train_X,train_label,batch_size=batch_size,epochs=epochs,verbose=1,validation_data=\n",
    "                                (valid_X,valid_label))"
   ]
  },
  {
   "cell_type": "code",
   "execution_count": null,
   "metadata": {},
   "outputs": [],
   "source": [
    "predicted_class=num_model.predict(test_X)\n"
   ]
  },
  {
   "cell_type": "code",
   "execution_count": null,
   "metadata": {},
   "outputs": [],
   "source": []
  },
  {
   "cell_type": "code",
   "execution_count": null,
   "metadata": {},
   "outputs": [],
   "source": [
    "predicted_classes=np.argmax(np.round(predicted_class),axis=1)"
   ]
  },
  {
   "cell_type": "code",
   "execution_count": null,
   "metadata": {},
   "outputs": [],
   "source": [
    "for i,c in enumerate(range(9,9)):\n",
    "    plst.subplot(3, 3, figsize=(10, 10))\n",
    "    plt.imshow(test_X[c].reshape(28,28),cmap='gray')\n",
    "    plt.title(\"Predicted Classe is {}\".format(predicted_classes[c]))\n",
    "    plt.tight_layout()"
   ]
  },
  {
   "cell_type": "code",
   "execution_count": null,
   "metadata": {},
   "outputs": [],
   "source": [
    "for i,c in enumerate(range(0,100)):\n",
    "    plt.subplots(10, 10)\n",
    "    plt.imshow(test_X[c].reshape(28,28),cmap='gray')\n",
    "    plt.title(\"Predicted Classe is {}\".format(predicted_classes[c]))\n",
    "    plt.tight_layout()"
   ]
  },
  {
   "cell_type": "code",
   "execution_count": null,
   "metadata": {},
   "outputs": [],
   "source": [
    "plt.imshow(test_X[15].reshape(28,28))"
   ]
  },
  {
   "cell_type": "code",
   "execution_count": null,
   "metadata": {},
   "outputs": [],
   "source": [
    "final_predicted_class=pd.Series(predicted_classes,name=\"Label\")\n",
    "output_csv=pd.concat([pd.Series(range(1,len(predicted_classes)+1),name=\"ImageId\"),final_predicted_class],axis=1)\n"
   ]
  },
  {
   "cell_type": "code",
   "execution_count": null,
   "metadata": {},
   "outputs": [],
   "source": [
    "output_csv.to_csv(\"output_csv.csv\",index=False)"
   ]
  },
  {
   "cell_type": "code",
   "execution_count": null,
   "metadata": {},
   "outputs": [],
   "source": [
    "print(final_predicted_class)"
   ]
  },
  {
   "cell_type": "code",
   "execution_count": null,
   "metadata": {},
   "outputs": [],
   "source": []
  }
 ],
 "metadata": {
  "kernelspec": {
   "display_name": "Python 3",
   "language": "python",
   "name": "python3"
  },
  "language_info": {
   "codemirror_mode": {
    "name": "ipython",
    "version": 3
   },
   "file_extension": ".py",
   "mimetype": "text/x-python",
   "name": "python",
   "nbconvert_exporter": "python",
   "pygments_lexer": "ipython3",
   "version": "3.6.5"
  }
 },
 "nbformat": 4,
 "nbformat_minor": 2
}
